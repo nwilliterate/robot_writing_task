{
 "cells": [
  {
   "cell_type": "markdown",
   "metadata": {},
   "source": [
    "# 학습 데이터셋 생성"
   ]
  },
  {
   "cell_type": "markdown",
   "metadata": {},
   "source": [
    "### 라이브러리 임포트"
   ]
  },
  {
   "cell_type": "code",
   "execution_count": 1,
   "metadata": {},
   "outputs": [],
   "source": [
    "import torch \n",
    "import torch.nn as nn\n",
    "import torch.optim as optim\n",
    "import torch.nn.init as init"
   ]
  },
  {
   "cell_type": "code",
   "execution_count": 2,
   "metadata": {},
   "outputs": [],
   "source": [
    "import numpy as np\n",
    "import pandas as pd\n",
    "import matplotlib.pyplot as plt\n",
    "%matplotlib inline"
   ]
  },
  {
   "cell_type": "markdown",
   "metadata": {},
   "source": [
    "### 데이터 로드"
   ]
  },
  {
   "cell_type": "code",
   "execution_count": 3,
   "metadata": {},
   "outputs": [],
   "source": [
    "task_index = 1;\n",
    "if task_index == 1:\n",
    "    robot_data = pd.read_csv(\"./1. preprocessing_Data/task1/train_data_68_0.05.csv\", encoding='CP949')\n",
    "elif task_index == 2:\n",
    "    robot_data = pd.read_csv(\"./1. preprocessing_Data/task2/train_data_64_0.05.csv\", encoding='CP949')\n"
   ]
  },
  {
   "cell_type": "code",
   "execution_count": 4,
   "metadata": {
    "scrolled": true
   },
   "outputs": [
    {
     "data": {
      "text/html": [
       "<div>\n",
       "<style scoped>\n",
       "    .dataframe tbody tr th:only-of-type {\n",
       "        vertical-align: middle;\n",
       "    }\n",
       "\n",
       "    .dataframe tbody tr th {\n",
       "        vertical-align: top;\n",
       "    }\n",
       "\n",
       "    .dataframe thead th {\n",
       "        text-align: right;\n",
       "    }\n",
       "</style>\n",
       "<table border=\"1\" class=\"dataframe\">\n",
       "  <thead>\n",
       "    <tr style=\"text-align: right;\">\n",
       "      <th></th>\n",
       "      <th>temp_x_1</th>\n",
       "      <th>temp_x_2</th>\n",
       "      <th>temp_x_3</th>\n",
       "      <th>temp_x_4</th>\n",
       "      <th>temp_x_5</th>\n",
       "      <th>temp_x_6</th>\n",
       "      <th>temp_x_7</th>\n",
       "      <th>temp_x_8</th>\n",
       "    </tr>\n",
       "  </thead>\n",
       "  <tbody>\n",
       "    <tr>\n",
       "      <th>0</th>\n",
       "      <td>0.180</td>\n",
       "      <td>0.292</td>\n",
       "      <td>0.794</td>\n",
       "      <td>0.108</td>\n",
       "      <td>0.456</td>\n",
       "      <td>1.000</td>\n",
       "      <td>0.385</td>\n",
       "      <td>0.978</td>\n",
       "    </tr>\n",
       "    <tr>\n",
       "      <th>1</th>\n",
       "      <td>0.194</td>\n",
       "      <td>0.293</td>\n",
       "      <td>0.769</td>\n",
       "      <td>0.136</td>\n",
       "      <td>0.450</td>\n",
       "      <td>0.978</td>\n",
       "      <td>0.401</td>\n",
       "      <td>0.989</td>\n",
       "    </tr>\n",
       "    <tr>\n",
       "      <th>2</th>\n",
       "      <td>0.209</td>\n",
       "      <td>0.310</td>\n",
       "      <td>0.754</td>\n",
       "      <td>0.169</td>\n",
       "      <td>0.460</td>\n",
       "      <td>0.956</td>\n",
       "      <td>0.399</td>\n",
       "      <td>0.981</td>\n",
       "    </tr>\n",
       "    <tr>\n",
       "      <th>3</th>\n",
       "      <td>0.213</td>\n",
       "      <td>0.342</td>\n",
       "      <td>0.758</td>\n",
       "      <td>0.185</td>\n",
       "      <td>0.490</td>\n",
       "      <td>0.953</td>\n",
       "      <td>0.379</td>\n",
       "      <td>0.991</td>\n",
       "    </tr>\n",
       "    <tr>\n",
       "      <th>4</th>\n",
       "      <td>0.212</td>\n",
       "      <td>0.379</td>\n",
       "      <td>0.767</td>\n",
       "      <td>0.200</td>\n",
       "      <td>0.524</td>\n",
       "      <td>0.954</td>\n",
       "      <td>0.359</td>\n",
       "      <td>0.987</td>\n",
       "    </tr>\n",
       "    <tr>\n",
       "      <th>...</th>\n",
       "      <td>...</td>\n",
       "      <td>...</td>\n",
       "      <td>...</td>\n",
       "      <td>...</td>\n",
       "      <td>...</td>\n",
       "      <td>...</td>\n",
       "      <td>...</td>\n",
       "      <td>...</td>\n",
       "    </tr>\n",
       "    <tr>\n",
       "      <th>746</th>\n",
       "      <td>0.174</td>\n",
       "      <td>0.069</td>\n",
       "      <td>0.798</td>\n",
       "      <td>0.110</td>\n",
       "      <td>0.249</td>\n",
       "      <td>0.854</td>\n",
       "      <td>0.260</td>\n",
       "      <td>0.966</td>\n",
       "    </tr>\n",
       "    <tr>\n",
       "      <th>747</th>\n",
       "      <td>0.163</td>\n",
       "      <td>0.067</td>\n",
       "      <td>0.835</td>\n",
       "      <td>0.132</td>\n",
       "      <td>0.243</td>\n",
       "      <td>0.836</td>\n",
       "      <td>0.272</td>\n",
       "      <td>0.972</td>\n",
       "    </tr>\n",
       "    <tr>\n",
       "      <th>748</th>\n",
       "      <td>0.143</td>\n",
       "      <td>0.067</td>\n",
       "      <td>0.874</td>\n",
       "      <td>0.114</td>\n",
       "      <td>0.250</td>\n",
       "      <td>0.852</td>\n",
       "      <td>0.261</td>\n",
       "      <td>0.972</td>\n",
       "    </tr>\n",
       "    <tr>\n",
       "      <th>749</th>\n",
       "      <td>0.127</td>\n",
       "      <td>0.067</td>\n",
       "      <td>0.900</td>\n",
       "      <td>0.087</td>\n",
       "      <td>0.259</td>\n",
       "      <td>0.876</td>\n",
       "      <td>0.246</td>\n",
       "      <td>0.972</td>\n",
       "    </tr>\n",
       "    <tr>\n",
       "      <th>750</th>\n",
       "      <td>0.143</td>\n",
       "      <td>0.068</td>\n",
       "      <td>0.873</td>\n",
       "      <td>0.115</td>\n",
       "      <td>0.251</td>\n",
       "      <td>0.852</td>\n",
       "      <td>0.261</td>\n",
       "      <td>0.966</td>\n",
       "    </tr>\n",
       "  </tbody>\n",
       "</table>\n",
       "<p>751 rows × 8 columns</p>\n",
       "</div>"
      ],
      "text/plain": [
       "     temp_x_1  temp_x_2  temp_x_3  temp_x_4  temp_x_5  temp_x_6  temp_x_7  \\\n",
       "0       0.180     0.292     0.794     0.108     0.456     1.000     0.385   \n",
       "1       0.194     0.293     0.769     0.136     0.450     0.978     0.401   \n",
       "2       0.209     0.310     0.754     0.169     0.460     0.956     0.399   \n",
       "3       0.213     0.342     0.758     0.185     0.490     0.953     0.379   \n",
       "4       0.212     0.379     0.767     0.200     0.524     0.954     0.359   \n",
       "..        ...       ...       ...       ...       ...       ...       ...   \n",
       "746     0.174     0.069     0.798     0.110     0.249     0.854     0.260   \n",
       "747     0.163     0.067     0.835     0.132     0.243     0.836     0.272   \n",
       "748     0.143     0.067     0.874     0.114     0.250     0.852     0.261   \n",
       "749     0.127     0.067     0.900     0.087     0.259     0.876     0.246   \n",
       "750     0.143     0.068     0.873     0.115     0.251     0.852     0.261   \n",
       "\n",
       "     temp_x_8  \n",
       "0       0.978  \n",
       "1       0.989  \n",
       "2       0.981  \n",
       "3       0.991  \n",
       "4       0.987  \n",
       "..        ...  \n",
       "746     0.966  \n",
       "747     0.972  \n",
       "748     0.972  \n",
       "749     0.972  \n",
       "750     0.966  \n",
       "\n",
       "[751 rows x 8 columns]"
      ]
     },
     "execution_count": 4,
     "metadata": {},
     "output_type": "execute_result"
    }
   ],
   "source": [
    "robot_data"
   ]
  },
  {
   "cell_type": "markdown",
   "metadata": {},
   "source": [
    "## Position"
   ]
  },
  {
   "cell_type": "code",
   "execution_count": 5,
   "metadata": {},
   "outputs": [],
   "source": [
    "data_1 = robot_data[[\"temp_x_1\"]].squeeze().to_numpy()\n",
    "data_2 = robot_data[[\"temp_x_2\"]].squeeze().to_numpy()\n",
    "data_3 = robot_data[[\"temp_x_3\"]].squeeze().to_numpy()\n",
    "data_4 = robot_data[[\"temp_x_4\"]].squeeze().to_numpy()\n",
    "data_5 = robot_data[[\"temp_x_5\"]].squeeze().to_numpy()\n",
    "data_6 = robot_data[[\"temp_x_6\"]].squeeze().to_numpy()\n",
    "data_7 = robot_data[[\"temp_x_7\"]].squeeze().to_numpy()\n",
    "data_8 = robot_data[[\"temp_x_8\"]].squeeze().to_numpy()"
   ]
  },
  {
   "cell_type": "code",
   "execution_count": 6,
   "metadata": {},
   "outputs": [
    {
     "data": {
      "image/png": "[encoded data removed]",
      "text/plain": [
       "<Figure size 432x288 with 1 Axes>"
      ]
     },
     "metadata": {
      "needs_background": "light"
     },
     "output_type": "display_data"
    }
   ],
   "source": [
    "plt.plot(data_1)\n",
    "plt.plot(data_2)\n",
    "plt.plot(data_3)\n",
    "plt.plot(data_4)\n",
    "plt.plot(data_5)\n",
    "plt.plot(data_6)\n",
    "plt.plot(data_7)\n",
    "plt.plot(data_8)\n",
    "plt.show()"
   ]
  },
  {
   "cell_type": "code",
   "execution_count": 7,
   "metadata": {},
   "outputs": [],
   "source": [
    "time_len = 5\n",
    "data_num = np.size(data_1)"
   ]
  },
  {
   "cell_type": "code",
   "execution_count": 8,
   "metadata": {
    "scrolled": true
   },
   "outputs": [],
   "source": [
    "for i in range(data_num-time_len):\n",
    "    if i == 0:\n",
    "        input_1_temp = data_1[i:i+time_len]\n",
    "        target_1_temp = data_1[i+1:i+time_len+1]\n",
    "        \n",
    "        input_2_temp = data_2[i:i+time_len]\n",
    "        target_2_temp = data_2[i+1:i+time_len+1]\n",
    "        \n",
    "        input_3_temp = data_3[i:i+time_len]\n",
    "        target_3_temp = data_3[i+1:i+time_len+1]\n",
    "        \n",
    "        input_4_temp = data_4[i:i+time_len]\n",
    "        target_4_temp = data_4[i+1:i+time_len+1]\n",
    "        \n",
    "        input_5_temp = data_5[i:i+time_len]\n",
    "        target_5_temp = data_5[i+1:i+time_len+1]\n",
    "        \n",
    "        input_6_temp = data_6[i:i+time_len]\n",
    "        target_6_temp = data_6[i+1:i+time_len+1]\n",
    "        \n",
    "        input_7_temp = data_7[i:i+time_len]\n",
    "        target_7_temp = data_7[i+1:i+time_len+1]\n",
    "        \n",
    "        input_8_temp = data_8[i:i+time_len]\n",
    "        target_8_temp = data_8[i+1:i+time_len+1]\n",
    "    else:\n",
    "        input_1_temp = np.vstack([input_1_temp, data_1[i:i+time_len]])\n",
    "        target_1_temp = np.vstack([target_1_temp, data_1[i+1:i+time_len+1]])\n",
    "        \n",
    "        input_2_temp = np.vstack([input_2_temp, data_2[i:i+time_len]])\n",
    "        target_2_temp = np.vstack([target_2_temp, data_2[i+1:i+time_len+1]])\n",
    "        \n",
    "        input_3_temp = np.vstack([input_3_temp, data_3[i:i+time_len]])\n",
    "        target_3_temp = np.vstack([target_3_temp, data_3[i+1:i+time_len+1]])\n",
    "        \n",
    "        input_4_temp = np.vstack([input_4_temp, data_4[i:i+time_len]])\n",
    "        target_4_temp = np.vstack([target_4_temp, data_4[i+1:i+time_len+1]])\n",
    "        \n",
    "        input_5_temp = np.vstack([input_5_temp, data_5[i:i+time_len]])\n",
    "        target_5_temp = np.vstack([target_5_temp, data_5[i+1:i+time_len+1]])\n",
    "        \n",
    "        input_6_temp = np.vstack([input_6_temp, data_6[i:i+time_len]])\n",
    "        target_6_temp = np.vstack([target_6_temp, data_6[i+1:i+time_len+1]])\n",
    "        \n",
    "        input_7_temp = np.vstack([input_7_temp, data_7[i:i+time_len]])\n",
    "        target_7_temp = np.vstack([target_7_temp, data_7[i+1:i+time_len+1]])\n",
    "        \n",
    "        input_8_temp = np.vstack([input_8_temp, data_8[i:i+time_len]])\n",
    "        target_8_temp = np.vstack([target_8_temp, data_8[i+1:i+time_len+1]])"
   ]
  },
  {
   "cell_type": "code",
   "execution_count": 9,
   "metadata": {},
   "outputs": [
    {
     "name": "stdout",
     "output_type": "stream",
     "text": [
      "746\n"
     ]
    }
   ],
   "source": [
    "data_num = np.shape(target_1_temp)[0]\n",
    "print(data_num)"
   ]
  },
  {
   "cell_type": "code",
   "execution_count": 10,
   "metadata": {
    "scrolled": true
   },
   "outputs": [
    {
     "name": "stdout",
     "output_type": "stream",
     "text": [
      "(746, 5)\n"
     ]
    }
   ],
   "source": [
    "print(np.shape(input_1_temp))"
   ]
  },
  {
   "cell_type": "markdown",
   "metadata": {},
   "source": [
    "## numpy 2 torch"
   ]
  },
  {
   "cell_type": "code",
   "execution_count": 11,
   "metadata": {},
   "outputs": [],
   "source": [
    "# input\n",
    "input_1 = torch.from_numpy(input_1_temp).unsqueeze(2).type_as(torch.FloatTensor()) \n",
    "input_2 = torch.from_numpy(input_2_temp).unsqueeze(2).type_as(torch.FloatTensor()) \n",
    "input_3 = torch.from_numpy(input_3_temp).unsqueeze(2).type_as(torch.FloatTensor()) \n",
    "input_4 = torch.from_numpy(input_4_temp).unsqueeze(2).type_as(torch.FloatTensor()) \n",
    "input_5 = torch.from_numpy(input_5_temp).unsqueeze(2).type_as(torch.FloatTensor()) \n",
    "input_6 = torch.from_numpy(input_6_temp).unsqueeze(2).type_as(torch.FloatTensor()) \n",
    "input_7 = torch.from_numpy(input_7_temp).unsqueeze(2).type_as(torch.FloatTensor()) \n",
    "input_8 = torch.from_numpy(input_8_temp).unsqueeze(2).type_as(torch.FloatTensor()) \n",
    "\n",
    "# target\n",
    "target_1 = torch.from_numpy(target_1_temp).unsqueeze(2).type_as(torch.FloatTensor()) \n",
    "target_2 = torch.from_numpy(target_2_temp).unsqueeze(2).type_as(torch.FloatTensor()) \n",
    "target_3 = torch.from_numpy(target_3_temp).unsqueeze(2).type_as(torch.FloatTensor()) \n",
    "target_4 = torch.from_numpy(target_4_temp).unsqueeze(2).type_as(torch.FloatTensor()) \n",
    "target_5 = torch.from_numpy(target_5_temp).unsqueeze(2).type_as(torch.FloatTensor()) \n",
    "target_6 = torch.from_numpy(target_6_temp).unsqueeze(2).type_as(torch.FloatTensor()) \n",
    "target_7 = torch.from_numpy(target_7_temp).unsqueeze(2).type_as(torch.FloatTensor()) \n",
    "target_8 = torch.from_numpy(target_8_temp).unsqueeze(2).type_as(torch.FloatTensor()) "
   ]
  },
  {
   "cell_type": "code",
   "execution_count": 12,
   "metadata": {},
   "outputs": [],
   "source": [
    "training_num = int(data_num*(5/5))\n",
    "# test_num = int(data_num/5)\n",
    "# training_num, test_num, training_num + test_num"
   ]
  },
  {
   "cell_type": "code",
   "execution_count": 13,
   "metadata": {},
   "outputs": [],
   "source": [
    "training_input = np.concatenate((input_1[0:training_num],\n",
    "                                 input_2[0:training_num],\n",
    "                                 input_3[0:training_num],\n",
    "                                 input_4[0:training_num],\n",
    "                                 input_5[0:training_num],\n",
    "                                 input_6[0:training_num],\n",
    "                                 input_7[0:training_num],\n",
    "                                 input_8[0:training_num]\n",
    "                                ),2)\n",
    "\n",
    "training_target = np.concatenate((target_1[0:training_num],\n",
    "                                  target_2[0:training_num],\n",
    "                                  target_3[0:training_num],\n",
    "                                  target_4[0:training_num],\n",
    "                                  target_5[0:training_num],\n",
    "                                  target_6[0:training_num],\n",
    "                                  target_7[0:training_num],\n",
    "                                  target_8[0:training_num]\n",
    "                                 ),2)\n",
    "training_input = torch.from_numpy(training_input).type_as(torch.FloatTensor())\n",
    "training_target = torch.from_numpy(training_target).type_as(torch.FloatTensor())\n"
   ]
  },
  {
   "cell_type": "code",
   "execution_count": 14,
   "metadata": {},
   "outputs": [
    {
     "data": {
      "text/plain": [
       "torch.Size([746, 5, 8])"
      ]
     },
     "execution_count": 14,
     "metadata": {},
     "output_type": "execute_result"
    }
   ],
   "source": [
    "np.shape(training_input)"
   ]
  },
  {
   "cell_type": "code",
   "execution_count": null,
   "metadata": {},
   "outputs": [],
   "source": []
  },
  {
   "cell_type": "code",
   "execution_count": 15,
   "metadata": {
    "scrolled": true
   },
   "outputs": [],
   "source": [
    "batch_size = training_num\n",
    "seq_len = time_len\n",
    "num_layers = 5\n",
    "input_size = 8\n",
    "hidden_size = 2048\n",
    "lr = 0.01\n",
    "num_epochs = 1000"
   ]
  },
  {
   "cell_type": "code",
   "execution_count": null,
   "metadata": {},
   "outputs": [],
   "source": []
  },
  {
   "cell_type": "code",
   "execution_count": 16,
   "metadata": {},
   "outputs": [],
   "source": [
    "class LSTMGenerator(nn.Module):\n",
    "    def __init__(self, in_dim, out_dim, n_layers=1, hidden_dim=256):\n",
    "        super().__init__()\n",
    "        self.n_layers = n_layers\n",
    "        self.hidden_dim = hidden_dim\n",
    "        self.out_dim = out_dim\n",
    "\n",
    "        self.lstm = nn.LSTM(in_dim, hidden_dim, n_layers, batch_first=True)\n",
    "        self.linear = nn.Sequential(nn.Linear(hidden_dim, out_dim), nn.Tanh())\n",
    "\n",
    "    def forward(self, input):\n",
    "        batch_size, seq_len = input.size(0), input.size(1)\n",
    "        h_0 = torch.zeros(self.n_layers, batch_size, self.hidden_dim).to(device)\n",
    "        c_0 = torch.zeros(self.n_layers, batch_size, self.hidden_dim).to(device)\n",
    "\n",
    "        recurrent_features, _ = self.lstm(input, (h_0, c_0))\n",
    "        outputs = self.linear(recurrent_features.contiguous().view(batch_size*seq_len, self.hidden_dim))\n",
    "        outputs = outputs.view(batch_size, seq_len, self.out_dim)\n",
    "        return outputs\n",
    "\n",
    "\n",
    "class LSTMDiscriminator(nn.Module):\n",
    "    def __init__(self, in_dim, n_layers=1, hidden_dim=256):\n",
    "        super().__init__()\n",
    "        self.n_layers = n_layers\n",
    "        self.hidden_dim = hidden_dim\n",
    "\n",
    "        self.lstm = nn.LSTM(in_dim, hidden_dim, n_layers, batch_first=True)\n",
    "        self.linear = nn.Sequential(nn.Linear(hidden_dim, 1), nn.Sigmoid())\n",
    "\n",
    "    def forward(self, input):\n",
    "        batch_size, seq_len = input.size(0), input.size(1)\n",
    "        h_0 = torch.zeros(self.n_layers, batch_size, self.hidden_dim).to(device)\n",
    "        c_0 = torch.zeros(self.n_layers, batch_size, self.hidden_dim).to(device)\n",
    "\n",
    "        recurrent_features, _ = self.lstm(input, (h_0, c_0))\n",
    "        outputs = self.linear(recurrent_features.contiguous().view(batch_size*seq_len, self.hidden_dim))\n",
    "        outputs = outputs.view(batch_size, seq_len, 1)\n",
    "        return outputs"
   ]
  },
  {
   "cell_type": "code",
   "execution_count": 17,
   "metadata": {
    "tags": []
   },
   "outputs": [
    {
     "name": "stdout",
     "output_type": "stream",
     "text": [
      "cuda:0\n"
     ]
    }
   ],
   "source": [
    "# gpu가 사용 가능한 경우에는 device를 gpu로 설정하고 불가능하면 cpu로 설정합니다.\n",
    "device = torch.device(\"cuda:0\" if torch.cuda.is_available() else \"cpu\")\n",
    "print(device)\n",
    "\n",
    "netD = LSTMDiscriminator(input_size*2, num_layers, hidden_size).to(device)\n",
    "netG = LSTMGenerator(input_size, input_size, num_layers , hidden_size).to(device)\n",
    "\n",
    "criterion = nn.BCELoss().to(device)\n",
    "# delta_criterion = nn.MSELoss().to(device)\n",
    "\n",
    "real_label = 1\n",
    "fake_label = 0\n",
    "\n",
    "# setup optimizer\n",
    "optimizerD = optim.Adam(netD.parameters(), lr=lr)\n",
    "optimizerG = optim.Adam(netG.parameters(), lr=lr)"
   ]
  },
  {
   "cell_type": "code",
   "execution_count": 18,
   "metadata": {},
   "outputs": [
    {
     "name": "stdout",
     "output_type": "stream",
     "text": [
      "torch.Size([746, 5, 16])\n",
      "torch.Size([746, 5, 1])\n",
      "torch.Size([746, 5, 1])\n",
      "tensor(0.6937, grad_fn=<BinaryCrossEntropyBackward>)\n",
      "torch.Size([746, 5, 8])\n",
      "torch.Size([746, 5, 1])\n",
      "tensor(0.6926, grad_fn=<BinaryCrossEntropyBackward>)\n"
     ]
    }
   ],
   "source": [
    "input = training_input[0*batch_size:(0+1)*batch_size].to(device)\n",
    "target = training_target[0*batch_size:(0+1)*batch_size].to(device)\n",
    "print(np.shape(torch.cat((input, target), 2)))\n",
    "\n",
    "label = torch.full((batch_size, seq_len, 1), real_label, device=device)\n",
    "label = label.type(torch.FloatTensor)\n",
    "print(np.shape(label))\n",
    "\n",
    "real = torch.cat((input, target), 2)\n",
    "output = netD(real)\n",
    "output = output.type(torch.FloatTensor)\n",
    "print(np.shape(output))\n",
    "\n",
    "errD_real = criterion(output, label)\n",
    "print(errD_real)\n",
    "\n",
    "fakeG = netG(input)\n",
    "label.fill_(fake_label) \n",
    "print(np.shape(fakeG))\n",
    "\n",
    "fake = torch.cat((input, fakeG.detach()), 2)\n",
    "output = netD(fake)\n",
    "output = output.type(torch.FloatTensor)\n",
    "print(np.shape(output))\n",
    "\n",
    "errD_fake = criterion(output, label)\n",
    "print(errD_fake)"
   ]
  },
  {
   "cell_type": "code",
   "execution_count": 19,
   "metadata": {
    "scrolled": true
   },
   "outputs": [
    {
     "ename": "RuntimeError",
     "evalue": "CUDA out of memory. Tried to allocate 868.00 MiB (GPU 0; 8.00 GiB total capacity; 5.37 GiB already allocated; 30.38 MiB free; 5.85 GiB reserved in total by PyTorch)",
     "output_type": "error",
     "traceback": [
      "\u001b[1;31m---------------------------------------------------------------------------\u001b[0m",
      "\u001b[1;31mRuntimeError\u001b[0m                              Traceback (most recent call last)",
      "\u001b[1;32m~\\AppData\\Local\\Temp/ipykernel_284/1892503435.py\u001b[0m in \u001b[0;36m<module>\u001b[1;34m\u001b[0m\n\u001b[0;32m     44\u001b[0m         \u001b[0moutput\u001b[0m \u001b[1;33m=\u001b[0m \u001b[0moutput\u001b[0m\u001b[1;33m.\u001b[0m\u001b[0mtype\u001b[0m\u001b[1;33m(\u001b[0m\u001b[0mtorch\u001b[0m\u001b[1;33m.\u001b[0m\u001b[0mFloatTensor\u001b[0m\u001b[1;33m)\u001b[0m\u001b[1;33m\u001b[0m\u001b[1;33m\u001b[0m\u001b[0m\n\u001b[0;32m     45\u001b[0m         \u001b[0merrG\u001b[0m \u001b[1;33m=\u001b[0m \u001b[0mcriterion\u001b[0m\u001b[1;33m(\u001b[0m\u001b[0moutput\u001b[0m\u001b[1;33m,\u001b[0m \u001b[0mlabel\u001b[0m\u001b[1;33m)\u001b[0m\u001b[1;33m\u001b[0m\u001b[1;33m\u001b[0m\u001b[0m\n\u001b[1;32m---> 46\u001b[1;33m         \u001b[0merrG\u001b[0m\u001b[1;33m.\u001b[0m\u001b[0mbackward\u001b[0m\u001b[1;33m(\u001b[0m\u001b[1;33m)\u001b[0m\u001b[1;33m\u001b[0m\u001b[1;33m\u001b[0m\u001b[0m\n\u001b[0m\u001b[0;32m     47\u001b[0m         \u001b[0mD_G_z2\u001b[0m \u001b[1;33m=\u001b[0m \u001b[0moutput\u001b[0m\u001b[1;33m.\u001b[0m\u001b[0mmean\u001b[0m\u001b[1;33m(\u001b[0m\u001b[1;33m)\u001b[0m\u001b[1;33m.\u001b[0m\u001b[0mitem\u001b[0m\u001b[1;33m(\u001b[0m\u001b[1;33m)\u001b[0m\u001b[1;33m\u001b[0m\u001b[1;33m\u001b[0m\u001b[0m\n\u001b[0;32m     48\u001b[0m \u001b[1;33m\u001b[0m\u001b[0m\n",
      "\u001b[1;32m~\\anaconda3\\envs\\py38\\lib\\site-packages\\torch\\_tensor.py\u001b[0m in \u001b[0;36mbackward\u001b[1;34m(self, gradient, retain_graph, create_graph, inputs)\u001b[0m\n\u001b[0;32m    253\u001b[0m                 \u001b[0mcreate_graph\u001b[0m\u001b[1;33m=\u001b[0m\u001b[0mcreate_graph\u001b[0m\u001b[1;33m,\u001b[0m\u001b[1;33m\u001b[0m\u001b[1;33m\u001b[0m\u001b[0m\n\u001b[0;32m    254\u001b[0m                 inputs=inputs)\n\u001b[1;32m--> 255\u001b[1;33m         \u001b[0mtorch\u001b[0m\u001b[1;33m.\u001b[0m\u001b[0mautograd\u001b[0m\u001b[1;33m.\u001b[0m\u001b[0mbackward\u001b[0m\u001b[1;33m(\u001b[0m\u001b[0mself\u001b[0m\u001b[1;33m,\u001b[0m \u001b[0mgradient\u001b[0m\u001b[1;33m,\u001b[0m \u001b[0mretain_graph\u001b[0m\u001b[1;33m,\u001b[0m \u001b[0mcreate_graph\u001b[0m\u001b[1;33m,\u001b[0m \u001b[0minputs\u001b[0m\u001b[1;33m=\u001b[0m\u001b[0minputs\u001b[0m\u001b[1;33m)\u001b[0m\u001b[1;33m\u001b[0m\u001b[1;33m\u001b[0m\u001b[0m\n\u001b[0m\u001b[0;32m    256\u001b[0m \u001b[1;33m\u001b[0m\u001b[0m\n\u001b[0;32m    257\u001b[0m     \u001b[1;32mdef\u001b[0m \u001b[0mregister_hook\u001b[0m\u001b[1;33m(\u001b[0m\u001b[0mself\u001b[0m\u001b[1;33m,\u001b[0m \u001b[0mhook\u001b[0m\u001b[1;33m)\u001b[0m\u001b[1;33m:\u001b[0m\u001b[1;33m\u001b[0m\u001b[1;33m\u001b[0m\u001b[0m\n",
      "\u001b[1;32m~\\anaconda3\\envs\\py38\\lib\\site-packages\\torch\\autograd\\__init__.py\u001b[0m in \u001b[0;36mbackward\u001b[1;34m(tensors, grad_tensors, retain_graph, create_graph, grad_variables, inputs)\u001b[0m\n\u001b[0;32m    145\u001b[0m         \u001b[0mretain_graph\u001b[0m \u001b[1;33m=\u001b[0m \u001b[0mcreate_graph\u001b[0m\u001b[1;33m\u001b[0m\u001b[1;33m\u001b[0m\u001b[0m\n\u001b[0;32m    146\u001b[0m \u001b[1;33m\u001b[0m\u001b[0m\n\u001b[1;32m--> 147\u001b[1;33m     Variable._execution_engine.run_backward(\n\u001b[0m\u001b[0;32m    148\u001b[0m         \u001b[0mtensors\u001b[0m\u001b[1;33m,\u001b[0m \u001b[0mgrad_tensors_\u001b[0m\u001b[1;33m,\u001b[0m \u001b[0mretain_graph\u001b[0m\u001b[1;33m,\u001b[0m \u001b[0mcreate_graph\u001b[0m\u001b[1;33m,\u001b[0m \u001b[0minputs\u001b[0m\u001b[1;33m,\u001b[0m\u001b[1;33m\u001b[0m\u001b[1;33m\u001b[0m\u001b[0m\n\u001b[0;32m    149\u001b[0m         allow_unreachable=True, accumulate_grad=True)  # allow_unreachable flag\n",
      "\u001b[1;31mRuntimeError\u001b[0m: CUDA out of memory. Tried to allocate 868.00 MiB (GPU 0; 8.00 GiB total capacity; 5.37 GiB already allocated; 30.38 MiB free; 5.85 GiB reserved in total by PyTorch)"
     ]
    }
   ],
   "source": [
    "loss_arr =[]\n",
    "training_data_num = np.shape(training_input)[0]\n",
    "\n",
    "for i in range(num_epochs):      \n",
    "    \n",
    "    for j in range(0, np.int64(training_data_num/batch_size)):\n",
    "        input = training_input[0*batch_size:(0+1)*batch_size].to(device)\n",
    "        target = training_target[0*batch_size:(0+1)*batch_size].to(device)   \n",
    "        #Train with real data\n",
    "        # (1) Update D network: maximize log(D(x)) + log(1 - D(G(x)))\n",
    "        # log(1-D(x+1))\n",
    "        \n",
    "        netD.zero_grad()\n",
    "        real = torch.cat((input, target), 2)\n",
    "        label = torch.full((batch_size, seq_len, 1), real_label, device=device)\n",
    "        label = label.type(torch.FloatTensor)\n",
    "        \n",
    "        output = netD(real)\n",
    "        output = output.type(torch.FloatTensor)\n",
    "        \n",
    "        errD_real = criterion(output, label)\n",
    "        errD_real.backward()\n",
    "        D_x = output.mean().item()\n",
    "        \n",
    "        # Train with fake data\n",
    "        # log(1-D(G(x)))\n",
    "        fakeG = netG(input)\n",
    "        label.fill_(fake_label)\n",
    "        \n",
    "        output = netD(torch.cat((input, fakeG.detach()), 2))\n",
    "        output = output.type(torch.FloatTensor)\n",
    "        \n",
    "        errD_fake = criterion(output, label)\n",
    "        errD_fake.backward()\n",
    "        D_G_z1 = output.mean().item()\n",
    "        errD = errD_real + errD_fake\n",
    "        optimizerD.step()\n",
    "        \n",
    "        # (2) Update G network: maximize log(D(G(z)))\n",
    "        netG.zero_grad()\n",
    "        label.fill_(real_label)\n",
    "        \n",
    "        output = netD(torch.cat((input, fakeG.detach()), 2))\n",
    "        output = output.type(torch.FloatTensor)\n",
    "        errG = criterion(output, label)\n",
    "        errG.backward()\n",
    "        D_G_z2 = output.mean().item()\n",
    "\n",
    "        optimizerG.step()\n",
    "        \n",
    "    if i % 100 == 0:\n",
    "        print('[%d/%d][%d/%d] Loss_D: %.4f Loss_G: %.4f D(x): %.4f D(G(z)): %.4f / %.4f' \n",
    "              % (i, num_epochs, j, np.int64(training_data_num/batch_size),\n",
    "                 errD.item(), errG.item(), D_x, D_G_z1, D_G_z2), end='\\n')\n",
    "        '''\n",
    "        with torch.no_grad():\n",
    "            test_data_num = np.shape(training_input)[0]\n",
    "            test_total =[]\n",
    "\n",
    "            for j in range(0, np.int64(training_data_num/batch_size)):\n",
    "                netG.zero_grad()\n",
    "                input = training_input[j*batch_size:(j+1)*batch_size].to(device)\n",
    "\n",
    "                output = netG(input)\n",
    "\n",
    "                test = output.cpu().detach().numpy()\n",
    "                test = test.squeeze()\n",
    "\n",
    "                if j == 0:\n",
    "                    test_total = test\n",
    "                else:\n",
    "                    test_total = np.vstack([test_total, test])\n",
    "\n",
    "            plt.plot(training_target[:,time_len-1,:], color='r', linewidth=3.0)\n",
    "            plt.plot(test_total[:,time_len-1,:], color='k', linewidth=1.0)\n",
    "            plt.show()\n",
    "        '''"
   ]
  },
  {
   "cell_type": "code",
   "execution_count": null,
   "metadata": {},
   "outputs": [],
   "source": [
    "plt.plot(loss_arr,'-b')\n",
    "\n",
    "plt.show()"
   ]
  },
  {
   "cell_type": "code",
   "execution_count": null,
   "metadata": {},
   "outputs": [],
   "source": [
    "%matplotlib notebook\n",
    "torch.set_printoptions(precision=3)\n",
    "\n",
    "test_total =[]\n",
    "# input = test_input[1].reshape(1, time_len, 12).to(device)\n",
    "input = training_input[0].reshape(1,time_len, input_size).to(device)\n",
    "input = input.cpu().detach().numpy() # + np.random.normal(0, 1, input.shape)\n",
    "input = torch.from_numpy(input).type_as(torch.FloatTensor()).to(device)\n",
    "\n",
    "for j in range(0,training_num): # range(0, 1000):#len(test_input)):\n",
    "    netG.zero_grad()\n",
    "    # hidden = torch.zeros(num_layers, 1, hidden_size).to(device) \n",
    "    # cell = torch.zeros(num_layers, 1, hidden_size).to(device) \n",
    "    \n",
    "    # output, hidden, cell = rnn(input,hidden,cell)\n",
    "    output = netG(input)\n",
    "    test = output.cpu().detach().numpy()\n",
    "    test = test #  + np.random.normal(0, .005, test.shape)\n",
    "    # input = test_input[j].reshape(1, time_len, input_size).to(device) \n",
    "    input = training_input[j].reshape(1, time_len, input_size).to(device) \n",
    "    # test1= input.cpu().detach().numpy()\n",
    "    # test = np.round(test,3)\n",
    "    # input = torch.from_numpy(test).type_as(torch.FloatTensor()).to(device)\n",
    "    # input = \n",
    "    # input = output\n",
    "    test = test.squeeze()\n",
    "    \n",
    "    # if np.linalg.norm(test - test1) < 1e-2:\n",
    "        # print(np.linalg.norm(test - test1))\n",
    "        # input = torch.from_numpy(np.random.normal(test,0.05)).float().reshape(1, 20, 7).to(device)\n",
    "    # print(np.linalg.norm(test - test1) < 1e-4)\n",
    "    \n",
    "    # numpy.random.normal(2*X+2,20)\n",
    "    \n",
    "    if j == 0:\n",
    "        test_total = test[time_len-1,:]# test[time_len-1,:]\n",
    "        # test_total = test[0,:]\n",
    "    else:\n",
    "        test_total = np.vstack([test_total, test[time_len-1,:]])\n",
    "        \n",
    "    # input = test_input[j*batch_size:(j+1)*batch_size].to(device)\n",
    "\n",
    "# print(test_total)\n",
    "# print(np.shape(test[19,:]))\n",
    "fig = plt.figure()\n",
    "# ax = plt.axes(projection='3d')\n",
    "ax = fig.add_subplot(111, projection='3d')\n",
    "ax.set_xlabel('X')\n",
    "ax.set_ylabel('Y')\n",
    "ax.set_zlabel('Z')\n",
    "\n",
    "# ax.plot3D(data_1, data_2, data_3, '-.k')\n",
    "ax.plot3D(training_input[:,time_len-1,0], training_input[:,time_len-1,1],training_input[:,time_len-1,2], '-.k')\n",
    "ax.plot3D(test_total[:,0],test_total[:,1], test_total[:,2],'-b')\n",
    "# ax.plot3D(exp_state[:, 0], exp_state[:, 1], exp_state[:, 2], '--b')\n",
    "# ax.set_xlim(.2, .4)\n",
    "# ax.set_ylim(-.3, .3)\n",
    "# ax.set_zlim(.45, .85)\n",
    "#ax = plt.gca()\n",
    "ax.xaxis.pane.fill = False\n",
    "ax.yaxis.pane.fill = False\n",
    "ax.zaxis.pane.fill = False\n",
    "\n",
    "# Now set color to white (or whatever is \"invisible\")\n",
    "ax.xaxis.pane.set_edgecolor('w')\n",
    "ax.yaxis.pane.set_edgecolor('w')\n",
    "ax.zaxis.pane.set_edgecolor('w')\n",
    "\n",
    "# Bonus: To get rid of the grid as well:\n",
    "# ax.grid(False)\n",
    "fig = plt.figure()\n",
    "for i in range(1,7):\n",
    "    ax = fig.add_subplot(610+i)\n",
    "    ax.plot(training_input[:,time_len-1,i-1], '-k')\n",
    "    ax.plot(test_total[:,i-1], '-.b')\n"
   ]
  }
 ],
 "metadata": {
  "kernelspec": {
   "display_name": "Python 3 (ipykernel)",
   "language": "python",
   "name": "python3"
  },
  "language_info": {
   "codemirror_mode": {
    "name": "ipython",
    "version": 3
   },
   "file_extension": ".py",
   "mimetype": "text/x-python",
   "name": "python",
   "nbconvert_exporter": "python",
   "pygments_lexer": "ipython3",
   "version": "3.8.10"
  }
 },
 "nbformat": 4,
 "nbformat_minor": 4
}
